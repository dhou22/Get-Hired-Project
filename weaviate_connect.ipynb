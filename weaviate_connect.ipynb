{
 "cells": [
  {
   "cell_type": "code",
   "execution_count": 9,
   "id": "4208e825",
   "metadata": {},
   "outputs": [
    {
     "name": "stdout",
     "output_type": "stream",
     "text": [
      "Found existing installation: weaviate-client 4.17.0\n",
      "Uninstalling weaviate-client-4.17.0:\n",
      "  Successfully uninstalled weaviate-client-4.17.0\n",
      "================================================================================\n",
      "✅ All dependencies installed successfully!\n",
      "================================================================================\n"
     ]
    }
   ],
   "source": [
    "# First, uninstall the old version and install v4\n",
    "!pip uninstall -y weaviate-client\n",
    "!pip install -q weaviate-client\n",
    "\n",
    "print(\"=\" * 80)\n",
    "print(\"✅ All dependencies installed successfully!\")\n",
    "print(\"=\" * 80)"
   ]
  },
  {
   "cell_type": "code",
   "execution_count": 2,
   "id": "c059920b",
   "metadata": {},
   "outputs": [
    {
     "name": "stdout",
     "output_type": "stream",
     "text": [
      "Weaviate version: 4.4.0\n"
     ]
    },
    {
     "name": "stderr",
     "output_type": "stream",
     "text": [
      "c:\\Users\\dhouh\\AppData\\Local\\Programs\\Python\\Python311\\Lib\\site-packages\\weaviate\\warnings.py:130: DeprecationWarning: Dep005: You are using weaviate-client version 4.4.0. The latest version is 4.17.0.\n",
      "            Please consider upgrading to the latest version. See https://weaviate.io/developers/weaviate/client-libraries/python for details.\n",
      "  warnings.warn(\n"
     ]
    },
    {
     "name": "stdout",
     "output_type": "stream",
     "text": [
      "--------------------------------------------------------------------------------\n",
      "✅ Connected to CLOUD Weaviate instance\n",
      "--------------------------------------------------------------------------------\n",
      "🟢 Weaviate is ready!\n",
      "================================================================================\n"
     ]
    }
   ],
   "source": [
    "import weaviate\n",
    "from weaviate.classes.init import Auth\n",
    "import weaviate.classes as wvc\n",
    "\n",
    "# Check version\n",
    "print(f\"Weaviate version: {weaviate.__version__}\")\n",
    "\n",
    "# Connect to Weaviate Cloud using WeaviateClient\n",
    "client = weaviate.connect_to_wcs(\n",
    "    cluster_url=\"oioloyctsmk38hxkvsxya.c0.us-west3.gcp.weaviate.cloud\",\n",
    "    auth_credentials=Auth.api_key(\"SU1tdUtNN2UwaGpQbWg0dF9WK0plZnczWWY0MnoyekJyMUlYVXQvYU5GOEw1UzhDRDRkNUJwVzJEb2M4PV92MjAw\")\n",
    ")\n",
    "\n",
    "print(\"-\" * 80)\n",
    "print(\"✅ Connected to CLOUD Weaviate instance\")\n",
    "print(\"-\" * 80)\n",
    "\n",
    "# Check if client is ready\n",
    "if client.is_ready():\n",
    "    print(\"🟢 Weaviate is ready!\")\n",
    "else:\n",
    "    print(\"🔴 Weaviate connection issue!\")\n",
    "\n",
    "print(\"=\" * 80)"
   ]
  },
  {
   "cell_type": "code",
   "execution_count": null,
   "id": "d96c306c",
   "metadata": {},
   "outputs": [],
   "source": []
  }
 ],
 "metadata": {
  "kernelspec": {
   "display_name": "Python 3",
   "language": "python",
   "name": "python3"
  },
  "language_info": {
   "codemirror_mode": {
    "name": "ipython",
    "version": 3
   },
   "file_extension": ".py",
   "mimetype": "text/x-python",
   "name": "python",
   "nbconvert_exporter": "python",
   "pygments_lexer": "ipython3",
   "version": "3.13.1"
  }
 },
 "nbformat": 4,
 "nbformat_minor": 5
}
